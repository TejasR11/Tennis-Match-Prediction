{
 "cells": [
  {
   "cell_type": "code",
   "execution_count": 1,
   "id": "a5522537",
   "metadata": {},
   "outputs": [],
   "source": [
    "#imports needed for this project\n",
    "import pandas as pd\n",
    "import os \n",
    "import numpy as np\n",
    "from numpy import random\n",
    "from sklearn.linear_model import LogisticRegression\n",
    "from sklearn.model_selection import train_test_split\n",
    "import plotly.express as px\n",
    "from scipy.stats import boxcox\n",
    "import pandas as pd\n",
    "import plotly.express as px\n",
    "from sklearn.linear_model import LogisticRegression\n",
    "from sklearn.preprocessing import OneHotEncoder, StandardScaler\n",
    "import numpy as np\n",
    "from sklearn.impute import SimpleImputer\n",
    "from sklearn.model_selection import train_test_split"
   ]
  },
  {
   "cell_type": "code",
   "execution_count": 2,
   "id": "e7c7c119",
   "metadata": {
    "scrolled": true
   },
   "outputs": [
    {
     "data": {
      "text/plain": [
       "['.gitattributes',\n",
       " 'atp_matches_1968.csv',\n",
       " 'atp_matches_1969.csv',\n",
       " 'atp_matches_1970.csv',\n",
       " 'atp_matches_1971.csv',\n",
       " 'atp_matches_1972.csv',\n",
       " 'atp_matches_1973.csv',\n",
       " 'atp_matches_1974.csv',\n",
       " 'atp_matches_1975.csv',\n",
       " 'atp_matches_1976.csv',\n",
       " 'atp_matches_1977.csv',\n",
       " 'atp_matches_1978.csv',\n",
       " 'atp_matches_1979.csv',\n",
       " 'atp_matches_1980.csv',\n",
       " 'atp_matches_1981.csv',\n",
       " 'atp_matches_1982.csv',\n",
       " 'atp_matches_1983.csv',\n",
       " 'atp_matches_1984.csv',\n",
       " 'atp_matches_1985.csv',\n",
       " 'atp_matches_1986.csv',\n",
       " 'atp_matches_1987.csv',\n",
       " 'atp_matches_1988.csv',\n",
       " 'atp_matches_1989.csv',\n",
       " 'atp_matches_1990.csv',\n",
       " 'atp_matches_1991.csv',\n",
       " 'atp_matches_1992.csv',\n",
       " 'atp_matches_1993.csv',\n",
       " 'atp_matches_1994.csv',\n",
       " 'atp_matches_1995.csv',\n",
       " 'atp_matches_1996.csv',\n",
       " 'atp_matches_1997.csv',\n",
       " 'atp_matches_1998.csv',\n",
       " 'atp_matches_1999.csv',\n",
       " 'atp_matches_2000.csv',\n",
       " 'atp_matches_2001.csv',\n",
       " 'atp_matches_2002.csv',\n",
       " 'atp_matches_2003.csv',\n",
       " 'atp_matches_2004.csv',\n",
       " 'atp_matches_2005.csv',\n",
       " 'atp_matches_2006.csv',\n",
       " 'atp_matches_2007.csv',\n",
       " 'atp_matches_2008.csv',\n",
       " 'atp_matches_2009.csv',\n",
       " 'atp_matches_2010.csv',\n",
       " 'atp_matches_2011.csv',\n",
       " 'atp_matches_2012.csv',\n",
       " 'atp_matches_2013.csv',\n",
       " 'atp_matches_2014.csv',\n",
       " 'atp_matches_2015.csv',\n",
       " 'atp_matches_2016.csv',\n",
       " 'atp_matches_2017.csv',\n",
       " 'atp_matches_2018.csv',\n",
       " 'atp_matches_2019.csv',\n",
       " 'atp_matches_2020.csv',\n",
       " 'atp_matches_2021.csv',\n",
       " 'atp_matches_2022.csv',\n",
       " 'atp_matches_amateur.csv',\n",
       " 'atp_matches_doubles_2000.csv',\n",
       " 'atp_matches_doubles_2001.csv',\n",
       " 'atp_matches_doubles_2002.csv',\n",
       " 'atp_matches_doubles_2003.csv',\n",
       " 'atp_matches_doubles_2004.csv',\n",
       " 'atp_matches_doubles_2005.csv',\n",
       " 'atp_matches_doubles_2006.csv',\n",
       " 'atp_matches_doubles_2007.csv',\n",
       " 'atp_matches_doubles_2008.csv',\n",
       " 'atp_matches_doubles_2009.csv',\n",
       " 'atp_matches_doubles_2010.csv',\n",
       " 'atp_matches_doubles_2011.csv',\n",
       " 'atp_matches_doubles_2012.csv',\n",
       " 'atp_matches_doubles_2013.csv',\n",
       " 'atp_matches_doubles_2014.csv',\n",
       " 'atp_matches_doubles_2015.csv',\n",
       " 'atp_matches_doubles_2016.csv',\n",
       " 'atp_matches_doubles_2017.csv',\n",
       " 'atp_matches_doubles_2018.csv',\n",
       " 'atp_matches_doubles_2019.csv',\n",
       " 'atp_matches_doubles_2020.csv',\n",
       " 'atp_matches_futures_1991.csv',\n",
       " 'atp_matches_futures_1992.csv',\n",
       " 'atp_matches_futures_1993.csv',\n",
       " 'atp_matches_futures_1994.csv',\n",
       " 'atp_matches_futures_1995.csv',\n",
       " 'atp_matches_futures_1996.csv',\n",
       " 'atp_matches_futures_1997.csv',\n",
       " 'atp_matches_futures_1998.csv',\n",
       " 'atp_matches_futures_1999.csv',\n",
       " 'atp_matches_futures_2000.csv',\n",
       " 'atp_matches_futures_2001.csv',\n",
       " 'atp_matches_futures_2002.csv',\n",
       " 'atp_matches_futures_2003.csv',\n",
       " 'atp_matches_futures_2004.csv',\n",
       " 'atp_matches_futures_2005.csv',\n",
       " 'atp_matches_futures_2006.csv',\n",
       " 'atp_matches_futures_2007.csv',\n",
       " 'atp_matches_futures_2008.csv',\n",
       " 'atp_matches_futures_2009.csv',\n",
       " 'atp_matches_futures_2010.csv',\n",
       " 'atp_matches_futures_2011.csv',\n",
       " 'atp_matches_futures_2012.csv',\n",
       " 'atp_matches_futures_2013.csv',\n",
       " 'atp_matches_futures_2014.csv',\n",
       " 'atp_matches_futures_2015.csv',\n",
       " 'atp_matches_futures_2016.csv',\n",
       " 'atp_matches_futures_2017.csv',\n",
       " 'atp_matches_futures_2018.csv',\n",
       " 'atp_matches_futures_2019.csv',\n",
       " 'atp_matches_futures_2020.csv',\n",
       " 'atp_matches_futures_2021.csv',\n",
       " 'atp_matches_futures_2022.csv',\n",
       " 'atp_matches_qual_chall_1978.csv',\n",
       " 'atp_matches_qual_chall_1979.csv',\n",
       " 'atp_matches_qual_chall_1980.csv',\n",
       " 'atp_matches_qual_chall_1981.csv',\n",
       " 'atp_matches_qual_chall_1982.csv',\n",
       " 'atp_matches_qual_chall_1983.csv',\n",
       " 'atp_matches_qual_chall_1984.csv',\n",
       " 'atp_matches_qual_chall_1985.csv',\n",
       " 'atp_matches_qual_chall_1986.csv',\n",
       " 'atp_matches_qual_chall_1987.csv',\n",
       " 'atp_matches_qual_chall_1988.csv',\n",
       " 'atp_matches_qual_chall_1989.csv',\n",
       " 'atp_matches_qual_chall_1990.csv',\n",
       " 'atp_matches_qual_chall_1991.csv',\n",
       " 'atp_matches_qual_chall_1992.csv',\n",
       " 'atp_matches_qual_chall_1993.csv',\n",
       " 'atp_matches_qual_chall_1994.csv',\n",
       " 'atp_matches_qual_chall_1995.csv',\n",
       " 'atp_matches_qual_chall_1996.csv',\n",
       " 'atp_matches_qual_chall_1997.csv',\n",
       " 'atp_matches_qual_chall_1998.csv',\n",
       " 'atp_matches_qual_chall_1999.csv',\n",
       " 'atp_matches_qual_chall_2000.csv',\n",
       " 'atp_matches_qual_chall_2001.csv',\n",
       " 'atp_matches_qual_chall_2002.csv',\n",
       " 'atp_matches_qual_chall_2003.csv',\n",
       " 'atp_matches_qual_chall_2004.csv',\n",
       " 'atp_matches_qual_chall_2005.csv',\n",
       " 'atp_matches_qual_chall_2006.csv',\n",
       " 'atp_matches_qual_chall_2007.csv',\n",
       " 'atp_matches_qual_chall_2008.csv',\n",
       " 'atp_matches_qual_chall_2009.csv',\n",
       " 'atp_matches_qual_chall_2010.csv',\n",
       " 'atp_matches_qual_chall_2011.csv',\n",
       " 'atp_matches_qual_chall_2012.csv',\n",
       " 'atp_matches_qual_chall_2013.csv',\n",
       " 'atp_matches_qual_chall_2014.csv',\n",
       " 'atp_matches_qual_chall_2015.csv',\n",
       " 'atp_matches_qual_chall_2016.csv',\n",
       " 'atp_matches_qual_chall_2017.csv',\n",
       " 'atp_matches_qual_chall_2018.csv',\n",
       " 'atp_matches_qual_chall_2019.csv',\n",
       " 'atp_matches_qual_chall_2020.csv',\n",
       " 'atp_matches_qual_chall_2021.csv',\n",
       " 'atp_matches_qual_chall_2022.csv',\n",
       " 'atp_players.csv',\n",
       " 'atp_rankings_00s.csv',\n",
       " 'atp_rankings_10s.csv',\n",
       " 'atp_rankings_20s.csv',\n",
       " 'atp_rankings_70s.csv',\n",
       " 'atp_rankings_80s.csv',\n",
       " 'atp_rankings_90s.csv',\n",
       " 'atp_rankings_current.csv',\n",
       " 'examples',\n",
       " 'matches_data_dictionary.txt',\n",
       " 'README.md']"
      ]
     },
     "execution_count": 2,
     "metadata": {},
     "output_type": "execute_result"
    }
   ],
   "source": [
    "#opens the file with match data\n",
    "os.listdir(\"Tennis Statistics\")"
   ]
  },
  {
   "cell_type": "code",
   "execution_count": 3,
   "id": "64d254d5",
   "metadata": {},
   "outputs": [],
   "source": [
    "\n",
    "def load_year(loaded_year):\n",
    "    '''function to load statistics from a year of choice'''\n",
    "    \n",
    "    file = 'Tennis Statistics/atp_matches_' + str(loaded_year) + '.csv' \n",
    "    data = pd.read_csv(file)\n",
    "      \n",
    "    data_columns = ['winner_id', 'winner_seed',\n",
    "       'winner_name', 'winner_hand', 'winner_ht', 'winner_age', 'w_ace', 'w_df', 'w_svpt', 'w_1stIn', 'w_1stWon', 'w_2ndWon',\n",
    "       'w_SvGms', 'w_bpSaved', 'w_bpFaced','winner_rank', 'winner_rank_points','loser_id', 'loser_seed', 'loser_name', 'loser_hand',\n",
    "       'loser_ht', 'loser_age', 'l_ace', 'l_df', 'l_svpt', 'l_1stIn', 'l_1stWon', 'l_2ndWon', 'l_SvGms', 'l_bpSaved', 'l_bpFaced', 'loser_rank', 'loser_rank_points']\n",
    "\n",
    "    column_map = {x:\"_\".join(x.split(\"_\")[1:]) for x in data_columns}\n",
    "\n",
    "    win_data = data[[ 'draw_size', 'tourney_level', 'winner_id',\n",
    "       'winner_name', 'winner_hand', 'winner_ht', 'winner_age','score', 'best_of', 'round',\n",
    "       'minutes', 'w_ace', 'w_df', 'w_svpt', 'w_1stIn', 'w_1stWon', 'w_2ndWon',\n",
    "       'w_SvGms', 'w_bpSaved', 'w_bpFaced','winner_rank']].groupby([\"winner_id\"]).mean()\n",
    "\n",
    "    lose_data = data[['draw_size', 'tourney_level',\n",
    "       'loser_id','loser_name', 'loser_hand',\n",
    "       'loser_ht', 'loser_age', 'score', 'best_of', 'round',\n",
    "       'minutes', 'l_ace', 'l_df', 'l_svpt',\n",
    "       'l_1stIn', 'l_1stWon', 'l_2ndWon', 'l_SvGms', 'l_bpSaved', 'l_bpFaced', 'loser_rank']].groupby([\"loser_id\"]).mean()\n",
    "\n",
    "    combined_data = (win_data.rename(columns = column_map) + lose_data.rename(columns = column_map))/2\n",
    "    combined_data = combined_data[combined_data.isnull().sum(axis = 1)<=0]\n",
    "    combined_data = combined_data[~combined_data.ht.isnull()]\n",
    "    combined_data['rank'] = boxcox(combined_data['rank'], 0)\n",
    "    scl = StandardScaler()\n",
    "    names = combined_data.columns\n",
    "    combined_data[names] = scl.fit_transform(combined_data)\n",
    "    combined_data.columns = names\n",
    "    combined_data['player_id'] = combined_data.index\n",
    "\n",
    "    return combined_data"
   ]
  },
  {
   "cell_type": "code",
   "execution_count": 4,
   "id": "96223270",
   "metadata": {},
   "outputs": [],
   "source": [
    "def read_year(year_predicted):\n",
    "    '''splits and compares winners and losers for testing by using data until year_predicted'''\n",
    "    \n",
    "    combined_years = None\n",
    "    for year in range(2000, year_predicted):\n",
    "        year_data = load_year(year)\n",
    "        year_data[\"years_played\"] = 1\n",
    "        if combined_years is None:\n",
    "            combined_years = year_data\n",
    "        else: \n",
    "            combined_years = pd.concat([combined_years, year_data], ignore_index = True)\n",
    "    combined_years = combined_years.groupby(['player_id'], as_index = 0).sum()        \n",
    "    combined_years.index = combined_years.player_id\n",
    "    combined_years = combined_years.div(combined_years.years_played, axis = 0).drop('years_played', axis = 1)\n",
    "    \n",
    "    \n",
    "    testing_data = pd.read_csv('Tennis Statistics/atp_matches_' + str(year_predicted) + '.csv')\n",
    "    win_loss = testing_data[[\"winner_id\", \"loser_id\"]].values\n",
    "    x = []\n",
    "    y = []\n",
    "    for match in win_loss:\n",
    "        player_1 = match[0]\n",
    "        player_2 = match[1]\n",
    "        try: \n",
    "            winner = combined_years.loc[player_1].values\n",
    "            loser = combined_years.loc[player_2].values\n",
    "        \n",
    "            if np.random.random()>0.5:\n",
    "                x.append(winner - loser) \n",
    "                y.append(0)\n",
    "            else:\n",
    "                x.append(loser - winner)\n",
    "                y.append(1)\n",
    "            \n",
    "\n",
    "        except:\n",
    "            continue\n",
    "   \n",
    "    x = np.stack(x) \n",
    "    \n",
    "    \n",
    "    \n",
    "    return x, y\n",
    "    "
   ]
  },
  {
   "cell_type": "code",
   "execution_count": 5,
   "id": "9922d9de",
   "metadata": {},
   "outputs": [],
   "source": [
    "#fits the logistics regression model on training data from 2015 to 2019\n",
    "reg = LogisticRegression()\n",
    "for year in range(2015, 2019):\n",
    "    x, y = read_year(year)\n",
    "    reg.fit(x, y)"
   ]
  },
  {
   "cell_type": "code",
   "execution_count": 6,
   "id": "56e268aa",
   "metadata": {},
   "outputs": [],
   "source": [
    "#converts player name to player id for use in dataset\n",
    "def name_convert(full_name):\n",
    "    atp_names = pd.read_csv('Tennis Statistics/atp_players.csv')\n",
    "    atp_names['name_full'] = atp_names.name_first + ' ' + atp_names.name_last\n",
    "    return atp_names[atp_names.name_full == full_name].player_id.values[0]\n",
    "    \n"
   ]
  },
  {
   "cell_type": "code",
   "execution_count": 7,
   "id": "09acaba8",
   "metadata": {},
   "outputs": [
    {
     "data": {
      "text/plain": [
       "100001"
      ]
     },
     "execution_count": 7,
     "metadata": {},
     "output_type": "execute_result"
    }
   ],
   "source": [
    "#converting player name to player id example\n",
    "name_convert(\"Gardnar Mulloy\")"
   ]
  },
  {
   "cell_type": "code",
   "execution_count": 13,
   "id": "3ee30229",
   "metadata": {},
   "outputs": [],
   "source": [
    " #iterates through and compares career match data from 2000 to 2022 for player_1 and player_2\n",
    "def get_stats(player_1, player_2):\n",
    "    player_1 = name_convert(player_1)\n",
    "    player_2 = name_convert(player_2)\n",
    "    combined_years = None\n",
    "    for year in range(2000, 2022):\n",
    "        year_data = load_year(year)\n",
    "        year_data[\"years_played\"] = 1\n",
    "        if combined_years is None:\n",
    "            combined_years = year_data\n",
    "        else: \n",
    "            combined_years = pd.concat([combined_years, year_data], ignore_index = True)\n",
    "    combined_years = combined_years.groupby(['player_id'], as_index = 0).sum()        \n",
    "    combined_years.index = combined_years.player_id\n",
    "    combined_years = combined_years.div(combined_years.years_played, axis = 0).drop('years_played', axis = 1)\n",
    "    \n",
    "    winner = combined_years.loc[player_1].values\n",
    "    loser = combined_years.loc[player_2].values\n",
    "    return (winner - loser).reshape (1,-1)"
   ]
  },
  {
   "cell_type": "code",
   "execution_count": 14,
   "id": "c111e711",
   "metadata": {},
   "outputs": [
    {
     "data": {
      "text/plain": [
       "array([1])"
      ]
     },
     "execution_count": 14,
     "metadata": {},
     "output_type": "execute_result"
    }
   ],
   "source": [
    "reg.predict(get_stats(\"Novak Djokovic\", \"Rafael Nadal\"))"
   ]
  },
  {
   "cell_type": "code",
   "execution_count": 20,
   "id": "764536b5",
   "metadata": {},
   "outputs": [],
   "source": [
    "def predict_winner(player_1, player_2):\n",
    "    '''predicts winner between player_1 and player_2 using reg model'''\n",
    "    \n",
    "    prediction = reg.predict(get_stats(player_1, player_2))[0]\n",
    "    if prediction == 0:\n",
    "        print(player_1)\n",
    "    elif prediction == 1: \n",
    "        print(player_2)\n",
    "    prediction = reg.predict_proba(get_stats(player_1, player_2))[0]\n",
    "    print(max(prediction))"
   ]
  },
  {
   "cell_type": "code",
   "execution_count": 26,
   "id": "51b22379",
   "metadata": {
    "scrolled": true
   },
   "outputs": [
    {
     "name": "stdout",
     "output_type": "stream",
     "text": [
      "Roger Federer\n",
      "0.5085663969997505\n"
     ]
    }
   ],
   "source": [
    "#example of predicting winner\n",
    "#probability not incredibly confident, but typically produces an accurate winner\n",
    "predict_winner(\"Roger Federer\", \"Taylor Fritz\")\n"
   ]
  },
  {
   "cell_type": "code",
   "execution_count": 24,
   "id": "c5354b13",
   "metadata": {},
   "outputs": [
    {
     "name": "stdout",
     "output_type": "stream",
     "text": [
      "Enter the first player name!felix auger aliassime\n",
      "Enter the second player name!carlos alcaraz\n",
      "Felix Auger Aliassime\n",
      "0.5283232841160224\n"
     ]
    }
   ],
   "source": [
    "#Make sure to spell the name correctly!\n",
    "Player1 = input(\"Enter the first player name!\")\n",
    "Player2 = input(\"Enter the second player name!\")\n",
    "predict_winner(Player1.title(), Player2.title())"
   ]
  },
  {
   "cell_type": "code",
   "execution_count": null,
   "id": "bd4a1cd7",
   "metadata": {},
   "outputs": [],
   "source": []
  }
 ],
 "metadata": {
  "kernelspec": {
   "display_name": "Python 3 (ipykernel)",
   "language": "python",
   "name": "python3"
  },
  "language_info": {
   "codemirror_mode": {
    "name": "ipython",
    "version": 3
   },
   "file_extension": ".py",
   "mimetype": "text/x-python",
   "name": "python",
   "nbconvert_exporter": "python",
   "pygments_lexer": "ipython3",
   "version": "3.9.7"
  }
 },
 "nbformat": 4,
 "nbformat_minor": 5
}
